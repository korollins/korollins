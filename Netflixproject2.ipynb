{
 "cells": [
  {
   "cell_type": "code",
   "execution_count": 1,
   "id": "4d5c37e4",
   "metadata": {},
   "outputs": [],
   "source": [
    "import pandas as pd\n"
   ]
  },
  {
   "cell_type": "code",
   "execution_count": 2,
   "id": "ea9ab471",
   "metadata": {},
   "outputs": [],
   "source": [
    "import numpy as np"
   ]
  },
  {
   "cell_type": "code",
   "execution_count": 3,
   "id": "d24d03be",
   "metadata": {},
   "outputs": [],
   "source": [
    "from matplotlib import pyplot as plt"
   ]
  },
  {
   "cell_type": "code",
   "execution_count": 4,
   "id": "955d2c8e",
   "metadata": {},
   "outputs": [],
   "source": [
    "subscribers = pd.read_excel('C:\\\\Users\\\\korol\\\\Desktop\\\\Python_Project\\\\Datasets\\\\Netflix11.xlsx')"
   ]
  },
  {
   "cell_type": "code",
   "execution_count": 5,
   "id": "438021f4",
   "metadata": {},
   "outputs": [],
   "source": [
    "# Abilty to index Data frames"
   ]
  },
  {
   "cell_type": "code",
   "execution_count": 6,
   "id": "678f8e0f",
   "metadata": {},
   "outputs": [
    {
     "data": {
      "text/html": [
       "<div>\n",
       "<style scoped>\n",
       "    .dataframe tbody tr th:only-of-type {\n",
       "        vertical-align: middle;\n",
       "    }\n",
       "\n",
       "    .dataframe tbody tr th {\n",
       "        vertical-align: top;\n",
       "    }\n",
       "\n",
       "    .dataframe thead th {\n",
       "        text-align: right;\n",
       "    }\n",
       "</style>\n",
       "<table border=\"1\" class=\"dataframe\">\n",
       "  <thead>\n",
       "    <tr style=\"text-align: right;\">\n",
       "      <th></th>\n",
       "      <th>Area</th>\n",
       "      <th>Q1 2018</th>\n",
       "      <th>Q2 2018</th>\n",
       "      <th>Q3 2018</th>\n",
       "      <th>Q4 2018</th>\n",
       "      <th>Q1 2019</th>\n",
       "      <th>Q2 2019</th>\n",
       "      <th>Q3 2019</th>\n",
       "      <th>Q4 2019</th>\n",
       "      <th>Q1 2020</th>\n",
       "      <th>Q2 2020</th>\n",
       "    </tr>\n",
       "  </thead>\n",
       "  <tbody>\n",
       "    <tr>\n",
       "      <th>0</th>\n",
       "      <td>United States and Canada</td>\n",
       "      <td>60909000</td>\n",
       "      <td>61870000</td>\n",
       "      <td>63010000</td>\n",
       "      <td>64757000</td>\n",
       "      <td>66633000</td>\n",
       "      <td>66501000</td>\n",
       "      <td>67114000</td>\n",
       "      <td>67662000</td>\n",
       "      <td>69969000</td>\n",
       "      <td>72904000</td>\n",
       "    </tr>\n",
       "    <tr>\n",
       "      <th>1</th>\n",
       "      <td>Europe, Middle East, and Africa</td>\n",
       "      <td>29339000</td>\n",
       "      <td>31317000</td>\n",
       "      <td>33836000</td>\n",
       "      <td>37818000</td>\n",
       "      <td>42542000</td>\n",
       "      <td>44229000</td>\n",
       "      <td>47355000</td>\n",
       "      <td>51778000</td>\n",
       "      <td>58734000</td>\n",
       "      <td>61483000</td>\n",
       "    </tr>\n",
       "    <tr>\n",
       "      <th>2</th>\n",
       "      <td>Latin America</td>\n",
       "      <td>21260000</td>\n",
       "      <td>22795000</td>\n",
       "      <td>24115000</td>\n",
       "      <td>26077000</td>\n",
       "      <td>27547000</td>\n",
       "      <td>27890000</td>\n",
       "      <td>29380000</td>\n",
       "      <td>31417000</td>\n",
       "      <td>34318000</td>\n",
       "      <td>36068000</td>\n",
       "    </tr>\n",
       "    <tr>\n",
       "      <th>3</th>\n",
       "      <td>Asia-Pacific</td>\n",
       "      <td>7394000</td>\n",
       "      <td>8372000</td>\n",
       "      <td>9461000</td>\n",
       "      <td>10607000</td>\n",
       "      <td>12141000</td>\n",
       "      <td>12942000</td>\n",
       "      <td>14485000</td>\n",
       "      <td>16233000</td>\n",
       "      <td>19835000</td>\n",
       "      <td>22492000</td>\n",
       "    </tr>\n",
       "  </tbody>\n",
       "</table>\n",
       "</div>"
      ],
      "text/plain": [
       "                              Area   Q1 2018   Q2 2018   Q3 2018   Q4 2018  \\\n",
       "0         United States and Canada  60909000  61870000  63010000  64757000   \n",
       "1  Europe, Middle East, and Africa  29339000  31317000  33836000  37818000   \n",
       "2                    Latin America  21260000  22795000  24115000  26077000   \n",
       "3                     Asia-Pacific   7394000   8372000   9461000  10607000   \n",
       "\n",
       "    Q1 2019   Q2 2019   Q3 2019   Q4 2019   Q1 2020   Q2 2020  \n",
       "0  66633000  66501000  67114000  67662000  69969000  72904000  \n",
       "1  42542000  44229000  47355000  51778000  58734000  61483000  \n",
       "2  27547000  27890000  29380000  31417000  34318000  36068000  \n",
       "3  12141000  12942000  14485000  16233000  19835000  22492000  "
      ]
     },
     "execution_count": 6,
     "metadata": {},
     "output_type": "execute_result"
    }
   ],
   "source": [
    "subscribers.head()"
   ]
  },
  {
   "cell_type": "code",
   "execution_count": 7,
   "id": "0e35d577",
   "metadata": {},
   "outputs": [],
   "source": [
    "subscribers.set_index('Area', inplace=True)"
   ]
  },
  {
   "cell_type": "code",
   "execution_count": 8,
   "id": "c91f2b1b",
   "metadata": {},
   "outputs": [
    {
     "name": "stdout",
     "output_type": "stream",
     "text": [
      "                                  Q1 2018   Q2 2018   Q3 2018   Q4 2018  \\\n",
      "Area                                                                      \n",
      "United States and Canada         60909000  61870000  63010000  64757000   \n",
      "Europe, Middle East, and Africa  29339000  31317000  33836000  37818000   \n",
      "Latin America                    21260000  22795000  24115000  26077000   \n",
      "Asia-Pacific                      7394000   8372000   9461000  10607000   \n",
      "\n",
      "                                  Q1 2019   Q2 2019   Q3 2019   Q4 2019  \\\n",
      "Area                                                                      \n",
      "United States and Canada         66633000  66501000  67114000  67662000   \n",
      "Europe, Middle East, and Africa  42542000  44229000  47355000  51778000   \n",
      "Latin America                    27547000  27890000  29380000  31417000   \n",
      "Asia-Pacific                     12141000  12942000  14485000  16233000   \n",
      "\n",
      "                                  Q1 2020   Q2 2020  \n",
      "Area                                                 \n",
      "United States and Canada         69969000  72904000  \n",
      "Europe, Middle East, and Africa  58734000  61483000  \n",
      "Latin America                    34318000  36068000  \n",
      "Asia-Pacific                     19835000  22492000  \n"
     ]
    }
   ],
   "source": [
    "print(subscribers)"
   ]
  },
  {
   "cell_type": "code",
   "execution_count": 9,
   "id": "4383d890",
   "metadata": {},
   "outputs": [],
   "source": [
    "# list of headers"
   ]
  },
  {
   "cell_type": "code",
   "execution_count": 10,
   "id": "a1b35bde",
   "metadata": {},
   "outputs": [
    {
     "data": {
      "text/plain": [
       "[]"
      ]
     },
     "execution_count": 10,
     "metadata": {},
     "output_type": "execute_result"
    }
   ],
   "source": [
    "list(subscribers.select_dtypes(['float64']))"
   ]
  },
  {
   "cell_type": "code",
   "execution_count": 23,
   "id": "53887ff3",
   "metadata": {
    "scrolled": true
   },
   "outputs": [
    {
     "data": {
      "image/png": "[encoded data removed]",
      "text/plain": [
       "<Figure size 432x288 with 1 Axes>"
      ]
     },
     "metadata": {
      "needs_background": "light"
     },
     "output_type": "display_data"
    }
   ],
   "source": [
    "subscribers.plot.bar(stacked=True);\n"
   ]
  },
  {
   "cell_type": "code",
   "execution_count": 13,
   "id": "0db20572",
   "metadata": {},
   "outputs": [
    {
     "data": {
      "text/plain": [
       "Index(['United States and Canada', 'Europe, Middle East, and Africa',\n",
       "       'Latin America', 'Asia-Pacific'],\n",
       "      dtype='object', name='Area')"
      ]
     },
     "execution_count": 13,
     "metadata": {},
     "output_type": "execute_result"
    }
   ],
   "source": [
    "subscribers.index"
   ]
  },
  {
   "cell_type": "code",
   "execution_count": 14,
   "id": "27d97306",
   "metadata": {},
   "outputs": [],
   "source": [
    "#What market has the greatest growth from 2018 - 2020?\n"
   ]
  },
  {
   "cell_type": "code",
   "execution_count": 15,
   "id": "802758e7",
   "metadata": {},
   "outputs": [
    {
     "data": {
      "text/plain": [
       "<AxesSubplot:xlabel='Area'>"
      ]
     },
     "execution_count": 15,
     "metadata": {},
     "output_type": "execute_result"
    },
    {
     "data": {
      "image/png": "[encoded data removed]",
      "text/plain": [
       "<Figure size 432x288 with 1 Axes>"
      ]
     },
     "metadata": {
      "needs_background": "light"
     },
     "output_type": "display_data"
    }
   ],
   "source": [
    "subscribers.plot(kind=\"bar\")"
   ]
  },
  {
   "cell_type": "code",
   "execution_count": 16,
   "id": "b4c52da0",
   "metadata": {},
   "outputs": [],
   "source": [
    "# Return only values for Europe,Middle East, and Africa in 2018\n"
   ]
  },
  {
   "cell_type": "code",
   "execution_count": 17,
   "id": "daf319e2",
   "metadata": {},
   "outputs": [
    {
     "name": "stdout",
     "output_type": "stream",
     "text": [
      "Q1 2018    29339000\n",
      "Q2 2018    31317000\n",
      "Q3 2018    33836000\n",
      "Q4 2018    37818000\n",
      "Q1 2019    42542000\n",
      "Q2 2019    44229000\n",
      "Q3 2019    47355000\n",
      "Q4 2019    51778000\n",
      "Q1 2020    58734000\n",
      "Q2 2020    61483000\n",
      "Name: Europe, Middle East, and Africa, dtype: int64\n"
     ]
    }
   ],
   "source": [
    "print(subscribers[['Q1 2018' , 'Q2 2018' ,  'Q3 2018' , 'Q4 2018','Q1 2019' , 'Q2 2019' ,  'Q3 2019' , 'Q4 2019','Q1 2020' , 'Q2 2020'  ]].iloc[1])"
   ]
  },
  {
   "cell_type": "code",
   "execution_count": 18,
   "id": "27f7b7f5",
   "metadata": {},
   "outputs": [],
   "source": [
    "#Pie Chart for Q1 Europe Middle East and Africa"
   ]
  },
  {
   "cell_type": "code",
   "execution_count": 19,
   "id": "fb52db87",
   "metadata": {},
   "outputs": [
    {
     "data": {
      "image/png": "[encoded data removed]",
      "text/plain": [
       "<Figure size 792x432 with 1 Axes>"
      ]
     },
     "metadata": {},
     "output_type": "display_data"
    }
   ],
   "source": [
    "plot = (subscribers[['Q1 2018' , 'Q1 2019' ,  'Q1 2020' , 'Q2 2020' ]].iloc[1].plot.pie(subplots=True, figsize=(11, 6)))"
   ]
  },
  {
   "cell_type": "code",
   "execution_count": null,
   "id": "572b6b03",
   "metadata": {},
   "outputs": [],
   "source": []
  },
  {
   "cell_type": "code",
   "execution_count": null,
   "id": "646ce22a",
   "metadata": {},
   "outputs": [],
   "source": []
  }
 ],
 "metadata": {
  "kernelspec": {
   "display_name": "Python 3 (ipykernel)",
   "language": "python",
   "name": "python3"
  },
  "language_info": {
   "codemirror_mode": {
    "name": "ipython",
    "version": 3
   },
   "file_extension": ".py",
   "mimetype": "text/x-python",
   "name": "python",
   "nbconvert_exporter": "python",
   "pygments_lexer": "ipython3",
   "version": "3.9.7"
  }
 },
 "nbformat": 4,
 "nbformat_minor": 5
}
